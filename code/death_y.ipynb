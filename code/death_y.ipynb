{
 "cells": [
  {
   "cell_type": "code",
   "execution_count": 1,
   "id": "7b577c02-5820-4281-b932-d27fda4a0d03",
   "metadata": {},
   "outputs": [],
   "source": [
    "import requests\n",
    "import zipfile\n",
    "import os\n",
    "import pandas as pd\n"
   ]
  },
  {
   "cell_type": "code",
   "execution_count": 9,
   "id": "7c91b9c0-9516-4504-9db4-83b05380f23f",
   "metadata": {},
   "outputs": [],
   "source": [
    "# 远程文件的 URL\n",
    "url = 'https://fema.gov/about/reports-and-data/openfema/nfirs_fire_hazmat_pdr_2022.zip'\n",
    "# 本地保存的文件名\n",
    "local_zip_file = 'nfirs_fire_hazmat_pdr_2022.zip'\n",
    "# 第一级解压缩后的文件夹名\n",
    "first_extracted_folder = 'nfirs_fire_hazmat_pdr_2022'\n",
    "# 第二级解压缩后的文件夹名\n",
    "second_extracted_folder = os.path.join(first_extracted_folder, 'NFIRS_FIRES_2022_102623')\n",
    "# 需要读取的文件路径\n",
    "target_file = 'NFIRS_FIRES_2022_102623/ffcasualty.txt'\n",
    "incident_file = 'NFIRS_FIRES_2022_102623/incident.txt'\n",
    "# 输出的 CSV 文件路径\n",
    "output_csv_file = os.path.join(second_extracted_folder, 'NFIRS_FIRES_2022_102623', 'filitered_ffcasualty.csv')\n"
   ]
  },
  {
   "cell_type": "code",
   "execution_count": 3,
   "id": "9a934772-c4d4-4031-8a50-0075d563856a",
   "metadata": {},
   "outputs": [
    {
     "name": "stdout",
     "output_type": "stream",
     "text": [
      "Downloaded nfirs_fire_hazmat_pdr_2022.zip\n"
     ]
    }
   ],
   "source": [
    "# 下载文件\n",
    "response = requests.get(url)\n",
    "with open(local_zip_file, 'wb') as f:\n",
    "    f.write(response.content)\n",
    "print(f\"Downloaded {local_zip_file}\")\n"
   ]
  },
  {
   "cell_type": "code",
   "execution_count": 4,
   "id": "9399aaaf-9d9f-4963-8213-59998fdfe5ca",
   "metadata": {},
   "outputs": [
    {
     "name": "stdout",
     "output_type": "stream",
     "text": [
      "Extracted files to nfirs_fire_hazmat_pdr_2022\n"
     ]
    }
   ],
   "source": [
    "# 解压缩第一级文件\n",
    "with zipfile.ZipFile(local_zip_file, 'r') as zip_ref:\n",
    "    zip_ref.extractall(first_extracted_folder)\n",
    "print(f\"Extracted files to {first_extracted_folder}\")\n"
   ]
  },
  {
   "cell_type": "code",
   "execution_count": 5,
   "id": "74c064ad-d355-4272-8d58-39af98a15f43",
   "metadata": {},
   "outputs": [
    {
     "name": "stdout",
     "output_type": "stream",
     "text": [
      "Extracted files to nfirs_fire_hazmat_pdr_2022/NFIRS_FIRES_2022_102623\n"
     ]
    }
   ],
   "source": [
    "# 解压缩第二级文件\n",
    "second_zip_file = os.path.join(first_extracted_folder, 'nfirs_fire_hazmat_pdr_2022', 'NFIRS_FIRES_2022_102623.zip')\n",
    "with zipfile.ZipFile(second_zip_file, 'r') as zip_ref:\n",
    "    zip_ref.extractall(second_extracted_folder)\n",
    "print(f\"Extracted files to {second_extracted_folder}\")\n"
   ]
  },
  {
   "cell_type": "code",
   "execution_count": 6,
   "id": "ec24fb49-0e5f-4a54-94c2-293cb2e2ba6a",
   "metadata": {},
   "outputs": [
    {
     "name": "stdout",
     "output_type": "stream",
     "text": [
      "NFIRS_FIRES_2022_102623/\n",
      "    incidentaddress.txt\n",
      "    fireincident.txt\n",
      "    civiliancasualty.txt\n",
      "    hazchem.txt\n",
      "    arson.txt\n",
      "    basicincident.txt\n",
      "    hazmat.txt\n",
      "    wildlands.txt\n",
      "    arsonjuvsub.txt\n",
      "    ems.txt\n",
      "    hazmatequipinvolved.txt\n",
      "    codelookup.txt\n",
      "    ffcasualty.txt\n",
      "    fdheader.txt\n",
      "    hazmobprop.txt\n",
      "    basicaid.txt\n",
      "    ffequipfail.txt\n",
      "    filtered_basicincident.csv\n",
      "    arsonagencyreferal.txt\n"
     ]
    }
   ],
   "source": [
    "# 列出解压后的目录结构\n",
    "def list_files(startpath):\n",
    "    for root, dirs, files in os.walk(startpath):\n",
    "        level = root.replace(startpath, '').count(os.sep)\n",
    "        indent = ' ' * 4 * (level)\n",
    "        print(f\"{indent}{os.path.basename(root)}/\")\n",
    "        subindent = ' ' * 4 * (level + 1)\n",
    "        for f in files:\n",
    "            print(f\"{subindent}{f}\")\n",
    "\n",
    "list_files(second_extracted_folder)"
   ]
  },
  {
   "cell_type": "code",
   "execution_count": 7,
   "id": "5e4d756a-426b-4d61-a074-f9f1cfb90bb6",
   "metadata": {},
   "outputs": [],
   "source": [
    "# 洛杉矶县城市列表\n",
    "la_cities = [\n",
    "    \"Agoura Hills\", \"Alhambra\", \"Arcadia\", \"Artesia\", \"Avalon\", \"Azusa\", \"Baldwin Park\", \"Bell\", \"Bell Gardens\", \"Bellflower\",\n",
    "    \"Beverly Hills\", \"Bradbury\", \"Burbank\", \"Calabasas\", \"Carson\", \"Cerritos\", \"Claremont\", \"Commerce\", \"Compton\", \"Covina\",\n",
    "    \"Cudahy\", \"Culver City\", \"Diamond Bar\", \"Downey\", \"Duarte\", \"El Monte\", \"El Segundo\", \"Gardena\", \"Glendale\", \"Glendora\",\n",
    "    \"Hawaiian Gardens\", \"Hawthorne\", \"Hermosa Beach\", \"Hidden Hills\", \"Huntington Park\", \"Industry\", \"Inglewood\", \"Irwindale\",\n",
    "    \"La Cañada Flintridge\", \"La Habra Heights\", \"La Mirada\", \"La Puente\", \"La Verne\", \"Lakewood\", \"Lancaster\", \"Lawndale\",\n",
    "    \"Lomita\", \"Long Beach\", \"Los Angeles\", \"Lynwood\", \"Malibu\", \"Manhattan Beach\", \"Maywood\", \"Monrovia\", \"Montebello\",\n",
    "    \"Monterey Park\", \"Norwalk\", \"Palmdale\", \"Palos Verdes Estates\", \"Paramount\", \"Pasadena\", \"Pico Rivera\", \"Pomona\",\n",
    "    \"Rancho Palos Verdes\", \"Redondo Beach\", \"Rolling Hills\", \"Rolling Hills Estates\", \"Rosemead\", \"San Dimas\", \"San Fernando\",\n",
    "    \"San Gabriel\", \"San Marino\", \"Santa Clarita\", \"Santa Fe Springs\", \"Santa Monica\", \"Sierra Madre\", \"Signal Hill\",\n",
    "    \"South El Monte\", \"South Gate\", \"South Pasadena\", \"Temple City\", \"Torrance\", \"Vernon\", \"Walnut\", \"West Covina\",\n",
    "    \"West Hollywood\", \"Westlake Village\", \"Whittier\"\n",
    "]"
   ]
  },
  {
   "cell_type": "code",
   "execution_count": 16,
   "id": "38756478-1e8f-46bb-b826-91ad7d100304",
   "metadata": {},
   "outputs": [
    {
     "name": "stdout",
     "output_type": "stream",
     "text": [
      "                    INCIDENT_KEY STATE   FDID  INC_DATE  INC_NO  EXP_NO  \\\n",
      "1     AK_11100_11262022_227808_0    AK  11100  11262022  227808       0   \n",
      "2     AK_11100_11262022_227808_0    AK  11100  11262022  227808       0   \n",
      "3     AK_11100_11262022_227808_0    AK  11100  11262022  227808       0   \n",
      "5       AK_13000_10132022_2088_0    AK  13000  10132022    2088       0   \n",
      "6       AK_13000_10132022_2088_0    AK  13000  10132022    2088       0   \n",
      "...                          ...   ...    ...       ...     ...     ...   \n",
      "8160     WY_07437_07072022_233_0    WY  07437   7072022     233       0   \n",
      "8161      WY_21307_01032022_85_0    WY  21307   1032022      85       0   \n",
      "8162    WY_21307_04242022_3018_0    WY  21307   4242022    3018       0   \n",
      "8164    WY_21411_12232022_1791_0    WY  21411  12232022    1791       0   \n",
      "8165  WY_23527_10102022_220063_0    WY  23527  10102022  220063       0   \n",
      "\n",
      "      FF_SEQ_NO  GENDER  CAREER  AGE      INJ_DATE SEVERITY ACTIVITY CAUSE  \\\n",
      "1             1       2     1.0   28  112620222215        4       30     6   \n",
      "2             2       1     1.0   22  112620222000        1       30     6   \n",
      "3             3       2     2.0   31  112620222000        2       30     0   \n",
      "5             1       1     1.0   48  101320220300        4       31     4   \n",
      "6             2       1     1.0   45  101320220300        1       31     4   \n",
      "...         ...     ...     ...  ...           ...      ...      ...   ...   \n",
      "8160          1       1     2.0   30   70720221640        4       31     0   \n",
      "8161          1       1     1.0   39   10320221633        3       50     1   \n",
      "8162          1       1     1.0   40   42420222100        4       31     U   \n",
      "8164          1       1     1.0   29  122320221430        3       61     2   \n",
      "8165          1       2     2.0   52  101020221500        3       30     4   \n",
      "\n",
      "     FACTOR  \n",
      "1        54  \n",
      "2        UU  \n",
      "3        UU  \n",
      "5        NN  \n",
      "6        NN  \n",
      "...     ...  \n",
      "8160     00  \n",
      "8161     51  \n",
      "8162     UU  \n",
      "8164     23  \n",
      "8165     00  \n",
      "\n",
      "[4204 rows x 15 columns]\n"
     ]
    }
   ],
   "source": [
    "import os\n",
    "import pandas as pd\n",
    "\n",
    "# 读取指定文件\n",
    "file_path = os.path.join(second_extracted_folder, 'ffcasualty.txt')\n",
    "\n",
    "if os.path.exists(file_path):\n",
    "    # 使用 pandas 读取文件，指定分隔符为 '^' 和编码为 'latin1'\n",
    "    try:\n",
    "        df = pd.read_csv(file_path, delimiter='^', encoding='latin1')\n",
    "        # 保留关键指标\n",
    "        key_columns = ['INCIDENT_KEY', 'STATE', 'FDID', 'INC_DATE', 'INC_NO', 'EXP_NO', \n",
    "                       'FF_SEQ_NO', 'GENDER', 'CAREER', 'AGE', 'INJ_DATE', 'SEVERITY', \n",
    "                       'ACTIVITY', 'CAUSE', 'FACTOR']\n",
    "        df = df[key_columns]\n",
    "        # 删除这些列中的缺失值\n",
    "        df = df.dropna()\n",
    "        print(df)\n",
    "    except UnicodeDecodeError as e:\n",
    "        print(f\"Error reading the file with 'latin1' encoding: {e}\")\n",
    "else:\n",
    "    print(f\"Error: The file at path {file_path} does not exist.\")\n"
   ]
  },
  {
   "cell_type": "code",
   "execution_count": 11,
   "id": "1392766e-d17e-438e-90e6-3804be5e5d9e",
   "metadata": {},
   "outputs": [
    {
     "name": "stdout",
     "output_type": "stream",
     "text": [
      "                    INCIDENT_KEY STATE   FDID  INC_DATE  INC_NO  EXP_NO  \\\n",
      "0     AK_11100_05222022_223075_0    AK  11100   5222022  223075       0   \n",
      "1     AK_11100_11262022_227808_0    AK  11100  11262022  227808       0   \n",
      "2     AK_11100_11262022_227808_0    AK  11100  11262022  227808       0   \n",
      "3     AK_11100_11262022_227808_0    AK  11100  11262022  227808       0   \n",
      "4     AK_11100_12202022_228285_0    AK  11100  12202022  228285       0   \n",
      "...                          ...   ...    ...       ...     ...     ...   \n",
      "8161      WY_21307_01032022_85_0    WY  21307   1032022      85       0   \n",
      "8162    WY_21307_04242022_3018_0    WY  21307   4242022    3018       0   \n",
      "8163    WY_21307_04242022_3018_0    WY  21307   4242022    3018       0   \n",
      "8164    WY_21411_12232022_1791_0    WY  21411  12232022    1791       0   \n",
      "8165  WY_23527_10102022_220063_0    WY  23527  10102022  220063       0   \n",
      "\n",
      "      FF_SEQ_NO  VERSION  GENDER  CAREER  ...  PABI  CAUSE  FACTOR  OBJECT  \\\n",
      "0             1      5.0       1     1.0  ...    61      7     NaN      27   \n",
      "1             1      5.0       2     1.0  ...    73      6      54      13   \n",
      "2             2      5.0       1     1.0  ...    10      6      UU      UU   \n",
      "3             3      5.0       2     2.0  ...    65      0      UU      43   \n",
      "4             1      5.0       1     1.0  ...    65      6     NaN      32   \n",
      "...         ...      ...     ...     ...  ...   ...    ...     ...     ...   \n",
      "8161          1      5.0       1     1.0  ...    23      1      51     NaN   \n",
      "8162          1      5.0       1     1.0  ...    32      U      UU      UU   \n",
      "8163          2      5.0       1     1.0  ...   NaN    NaN     NaN     NaN   \n",
      "8164          1      5.0       1     1.0  ...    63      2      23      62   \n",
      "8165          1      5.0       2     2.0  ...    12      4      00      42   \n",
      "\n",
      "      WIO RELATION STORY LOCATION VEHICLE PROT_EQP  \n",
      "0       6      NaN   NaN      NaN     NaN        N  \n",
      "1       5      1.0   2.0       49     NaN        N  \n",
      "2       6      2.0   1.0       UU     NaN        N  \n",
      "3       6      2.0   0.0       22     NaN        N  \n",
      "4       6      2.0   1.0       22     NaN        N  \n",
      "...   ...      ...   ...      ...     ...      ...  \n",
      "8161    6      NaN   NaN      NaN     NaN        N  \n",
      "8162    8      NaN   NaN      NaN     NaN        N  \n",
      "8163  NaN      NaN   NaN      NaN     NaN      NaN  \n",
      "8164    6      2.0   NaN       22     NaN        N  \n",
      "8165    6      2.0   NaN       22     NaN        N  \n",
      "\n",
      "[8166 rows x 29 columns]\n"
     ]
    }
   ],
   "source": [
    "# 读取指定文件\n",
    "file_path = os.path.join(second_extracted_folder, 'ffcasualty.txt')\n",
    "\n",
    "if os.path.exists(file_path):\n",
    "    # 使用 pandas 读取文件，指定分隔符为 '^' 和编码为 'latin1'\n",
    "    try:\n",
    "        df = pd.read_csv(file_path, delimiter='^', encoding='latin1')\n",
    "        print(df)\n",
    "    except UnicodeDecodeError as e:\n",
    "        print(f\"Error reading the file with 'latin1' encoding: {e}\")\n",
    "else:\n",
    "    print(f\"Error: The file at path {file_path} does not exist.\")"
   ]
  },
  {
   "cell_type": "code",
   "execution_count": null,
   "id": "228fb2dc-3893-4fdb-9c56-74644de72640",
   "metadata": {},
   "outputs": [],
   "source": []
  },
  {
   "cell_type": "code",
   "execution_count": null,
   "id": "17e0c451-50fb-4055-ad86-01412379f0f1",
   "metadata": {},
   "outputs": [],
   "source": []
  },
  {
   "cell_type": "code",
   "execution_count": null,
   "id": "b6680869-4a0a-424a-949c-2d041a977474",
   "metadata": {},
   "outputs": [],
   "source": []
  }
 ],
 "metadata": {
  "kernelspec": {
   "display_name": "Python 3 (ipykernel)",
   "language": "python",
   "name": "python3"
  },
  "language_info": {
   "codemirror_mode": {
    "name": "ipython",
    "version": 3
   },
   "file_extension": ".py",
   "mimetype": "text/x-python",
   "name": "python",
   "nbconvert_exporter": "python",
   "pygments_lexer": "ipython3",
   "version": "3.11.5"
  }
 },
 "nbformat": 4,
 "nbformat_minor": 5
}
