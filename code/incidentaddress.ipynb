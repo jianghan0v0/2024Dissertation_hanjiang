{
 "cells": [
  {
   "cell_type": "code",
   "execution_count": 11,
   "id": "7b577c02-5820-4281-b932-d27fda4a0d03",
   "metadata": {},
   "outputs": [],
   "source": [
    "import requests\n",
    "import zipfile\n",
    "import os\n",
    "import pandas as pd\n"
   ]
  },
  {
   "cell_type": "code",
   "execution_count": 22,
   "id": "7c91b9c0-9516-4504-9db4-83b05380f23f",
   "metadata": {},
   "outputs": [],
   "source": [
    "# 远程文件的 URL\n",
    "url = 'https://fema.gov/about/reports-and-data/openfema/nfirs_fire_hazmat_pdr_2022.zip'\n",
    "# 本地保存的文件名\n",
    "local_zip_file = 'nfirs_fire_hazmat_pdr_2022.zip'\n",
    "# 第一级解压缩后的文件夹名\n",
    "first_extracted_folder = 'nfirs_fire_hazmat_pdr_2022'\n",
    "# 第二级解压缩后的文件夹名\n",
    "second_extracted_folder = os.path.join(first_extracted_folder, 'NFIRS_FIRES_2022_102623')\n",
    "# 需要读取的文件路径\n",
    "target_file = 'NFIRS_FIRES_2022_102623/incidentaddress.txt'\n",
    "incident_file = 'NFIRS_FIRES_2022_102623/incident.txt'\n",
    "# 输出的 CSV 文件路径\n",
    "output_csv_file = os.path.join(second_extracted_folder, 'NFIRS_FIRES_2022_102623', 'incidentaddress.csv')\n"
   ]
  },
  {
   "cell_type": "code",
   "execution_count": 13,
   "id": "9a934772-c4d4-4031-8a50-0075d563856a",
   "metadata": {},
   "outputs": [
    {
     "name": "stdout",
     "output_type": "stream",
     "text": [
      "Downloaded nfirs_fire_hazmat_pdr_2022.zip\n"
     ]
    }
   ],
   "source": [
    "# 下载文件\n",
    "response = requests.get(url)\n",
    "with open(local_zip_file, 'wb') as f:\n",
    "    f.write(response.content)\n",
    "print(f\"Downloaded {local_zip_file}\")\n"
   ]
  },
  {
   "cell_type": "code",
   "execution_count": 14,
   "id": "9399aaaf-9d9f-4963-8213-59998fdfe5ca",
   "metadata": {},
   "outputs": [
    {
     "name": "stdout",
     "output_type": "stream",
     "text": [
      "Extracted files to nfirs_fire_hazmat_pdr_2022\n"
     ]
    }
   ],
   "source": [
    "# 解压缩第一级文件\n",
    "with zipfile.ZipFile(local_zip_file, 'r') as zip_ref:\n",
    "    zip_ref.extractall(first_extracted_folder)\n",
    "print(f\"Extracted files to {first_extracted_folder}\")\n"
   ]
  },
  {
   "cell_type": "code",
   "execution_count": 15,
   "id": "74c064ad-d355-4272-8d58-39af98a15f43",
   "metadata": {},
   "outputs": [
    {
     "name": "stdout",
     "output_type": "stream",
     "text": [
      "Extracted files to nfirs_fire_hazmat_pdr_2022/NFIRS_FIRES_2022_102623\n"
     ]
    }
   ],
   "source": [
    "# 解压缩第二级文件\n",
    "second_zip_file = os.path.join(first_extracted_folder, 'nfirs_fire_hazmat_pdr_2022', 'NFIRS_FIRES_2022_102623.zip')\n",
    "with zipfile.ZipFile(second_zip_file, 'r') as zip_ref:\n",
    "    zip_ref.extractall(second_extracted_folder)\n",
    "print(f\"Extracted files to {second_extracted_folder}\")\n"
   ]
  },
  {
   "cell_type": "code",
   "execution_count": 16,
   "id": "ec24fb49-0e5f-4a54-94c2-293cb2e2ba6a",
   "metadata": {},
   "outputs": [
    {
     "name": "stdout",
     "output_type": "stream",
     "text": [
      "NFIRS_FIRES_2022_102623/\n",
      "    incidentaddress.txt\n",
      "    fireincident.txt\n",
      "    civiliancasualty.txt\n",
      "    hazchem.txt\n",
      "    arson.txt\n",
      "    basicincident.txt\n",
      "    hazmat.txt\n",
      "    wildlands.txt\n",
      "    arsonjuvsub.txt\n",
      "    ems.txt\n",
      "    hazmatequipinvolved.txt\n",
      "    codelookup.txt\n",
      "    ffcasualty.txt\n",
      "    fdheader.txt\n",
      "    hazmobprop.txt\n",
      "    basicaid.txt\n",
      "    ffequipfail.txt\n",
      "    arsonagencyreferal.txt\n"
     ]
    }
   ],
   "source": [
    "# 列出解压后的目录结构\n",
    "def list_files(startpath):\n",
    "    for root, dirs, files in os.walk(startpath):\n",
    "        level = root.replace(startpath, '').count(os.sep)\n",
    "        indent = ' ' * 4 * (level)\n",
    "        print(f\"{indent}{os.path.basename(root)}/\")\n",
    "        subindent = ' ' * 4 * (level + 1)\n",
    "        for f in files:\n",
    "            print(f\"{subindent}{f}\")\n",
    "\n",
    "list_files(second_extracted_folder)"
   ]
  },
  {
   "cell_type": "code",
   "execution_count": 17,
   "id": "5e4d756a-426b-4d61-a074-f9f1cfb90bb6",
   "metadata": {},
   "outputs": [],
   "source": [
    "# 洛杉矶县城市列表\n",
    "la_cities = [\n",
    "    \"Agoura Hills\", \"Alhambra\", \"Arcadia\", \"Artesia\", \"Avalon\", \"Azusa\", \"Baldwin Park\", \"Bell\", \"Bell Gardens\", \"Bellflower\",\n",
    "    \"Beverly Hills\", \"Bradbury\", \"Burbank\", \"Calabasas\", \"Carson\", \"Cerritos\", \"Claremont\", \"Commerce\", \"Compton\", \"Covina\",\n",
    "    \"Cudahy\", \"Culver City\", \"Diamond Bar\", \"Downey\", \"Duarte\", \"El Monte\", \"El Segundo\", \"Gardena\", \"Glendale\", \"Glendora\",\n",
    "    \"Hawaiian Gardens\", \"Hawthorne\", \"Hermosa Beach\", \"Hidden Hills\", \"Huntington Park\", \"Industry\", \"Inglewood\", \"Irwindale\",\n",
    "    \"La Cañada Flintridge\", \"La Habra Heights\", \"La Mirada\", \"La Puente\", \"La Verne\", \"Lakewood\", \"Lancaster\", \"Lawndale\",\n",
    "    \"Lomita\", \"Long Beach\", \"Los Angeles\", \"Lynwood\", \"Malibu\", \"Manhattan Beach\", \"Maywood\", \"Monrovia\", \"Montebello\",\n",
    "    \"Monterey Park\", \"Norwalk\", \"Palmdale\", \"Palos Verdes Estates\", \"Paramount\", \"Pasadena\", \"Pico Rivera\", \"Pomona\",\n",
    "    \"Rancho Palos Verdes\", \"Redondo Beach\", \"Rolling Hills\", \"Rolling Hills Estates\", \"Rosemead\", \"San Dimas\", \"San Fernando\",\n",
    "    \"San Gabriel\", \"San Marino\", \"Santa Clarita\", \"Santa Fe Springs\", \"Santa Monica\", \"Sierra Madre\", \"Signal Hill\",\n",
    "    \"South El Monte\", \"South Gate\", \"South Pasadena\", \"Temple City\", \"Torrance\", \"Vernon\", \"Walnut\", \"West Covina\",\n",
    "    \"West Hollywood\", \"Westlake Village\", \"Whittier\"\n",
    "]"
   ]
  },
  {
   "cell_type": "code",
   "execution_count": 23,
   "id": "1392766e-d17e-438e-90e6-3804be5e5d9e",
   "metadata": {},
   "outputs": [
    {
     "name": "stderr",
     "output_type": "stream",
     "text": [
      "/tmp/ipykernel_8919/871074339.py:7: DtypeWarning: Columns (2,8,10,11) have mixed types. Specify dtype option on import or set low_memory=False.\n",
      "  df = pd.read_csv(file_path, delimiter='^', encoding='latin1')\n"
     ]
    },
    {
     "name": "stdout",
     "output_type": "stream",
     "text": [
      "                       INCIDENT_KEY STATE   FDID  INC_DATE   INC_NO  EXP_NO  \\\n",
      "140611  CA_15010_11242022_2256765_0    CA  15010  11242022  2256765       0   \n",
      "143872  CA_19005_01022022_2000027_0    CA  19005   1022022  2000027       0   \n",
      "143873  CA_19005_01032022_2000050_0    CA  19005   1032022  2000050       0   \n",
      "143874  CA_19005_01042022_2000078_0    CA  19005   1042022  2000078       0   \n",
      "143875  CA_19005_01062022_2000108_0    CA  19005   1062022  2000108       0   \n",
      "...                             ...   ...    ...       ...      ...     ...   \n",
      "273588  CA_39115_02232022_0022064_0    CA  39115   2232022    22064       0   \n",
      "316980  CA_56020_05162022_0042768_0    CA  56020   5162022    42768       0   \n",
      "316985  CA_56020_05172022_0043120_0    CA  56020   5172022    43120       0   \n",
      "317101  CA_56020_06172022_0052889_0    CA  56020   6172022    52889       0   \n",
      "317458  CA_56020_09032022_0080219_0    CA  56020   9032022    80219       0   \n",
      "\n",
      "        LOC_TYPE NUM_MILE STREET_PRE     STREETNAME STREETTYPE STREETSUF  \\\n",
      "140611       1.0    49846        NaN          110th         ST         W   \n",
      "143872       1.0     1120          S        HIDALGO        AVE       NaN   \n",
      "143873       1.0     1018          S         GLADYS        AVE       NaN   \n",
      "143874       1.0     1205        NaN            OAK         ST       NaN   \n",
      "143875       1.0     2800          W           ROSS        AVE       NaN   \n",
      "...          ...      ...        ...            ...        ...       ...   \n",
      "273588       1.0    14001          W   walnut grove         RD       NaN   \n",
      "316980       1.0    29666        NaN      QUAIL RUN         DR       NaN   \n",
      "316985       2.0      NaN          W  Pacific Coast        HWY       NaN   \n",
      "317101       1.0     5843        NaN   Rainbow Hill         RD       NaN   \n",
      "317458       1.0     6144        NaN      Grey Rock         RD       NaN   \n",
      "\n",
      "       APT_NO            CITY STATE_ID     ZIP5  ZIP4  \\\n",
      "140611    NaN       Lancaster       CA  93536.0   NaN   \n",
      "143872    NaN        Alhambra       CA  91801.0   NaN   \n",
      "143873    NaN     San Gabriel       CA  91775.0   NaN   \n",
      "143874    NaN  South Pasadena       CA  91030.0   NaN   \n",
      "143875    NaN        Alhambra       CA  91803.0   NaN   \n",
      "...       ...             ...      ...      ...   ...   \n",
      "273588    NaN          Walnut       CA  95686.0   NaN   \n",
      "316980    NaN    Agoura Hills       CA  91301.0   NaN   \n",
      "316985    NaN     Los Angeles       CA  90265.0   NaN   \n",
      "317101    NaN    Agoura Hills       CA  91301.0   NaN   \n",
      "317458    NaN    Agoura Hills       CA  91301.0   NaN   \n",
      "\n",
      "                           X_STREET  \n",
      "140611  SPUR RANCH RD 90TH ST W AVE  \n",
      "143872                          NaN  \n",
      "143873                          NaN  \n",
      "143874                          NaN  \n",
      "143875                          NaN  \n",
      "...                             ...  \n",
      "273588                          NaN  \n",
      "316980                          NaN  \n",
      "316985               Mulholland Hwy  \n",
      "317101                          NaN  \n",
      "317458                          NaN  \n",
      "\n",
      "[23796 rows x 18 columns]\n"
     ]
    }
   ],
   "source": [
    "# 读取指定文件\n",
    "incidentaddress_path = os.path.join(second_extracted_folder, 'incidentaddress.txt')\n",
    "basicincident_path = os.path.join(second_extracted_folder, 'NFIRS_FIRES_2022_102623', 'basicincident.txt')\n",
    "if os.path.exists(file_path):\n",
    "    # 使用 pandas 读取文件，指定分隔符为 '^' 和编码为 'latin1'\n",
    "    try:\n",
    "        df = pd.read_csv(file_path, delimiter='^', encoding='latin1')\n",
    "        # 筛选出 STATE 为 CA 且 CITY 为 Alhambra 的数据\n",
    "        filtered_df = df[(df['STATE'] == 'CA') & (df['CITY'].isin(la_cities))]\n",
    "        #filtered_df = df[(df['STATE'] == 'CA') & (df['CITY'] == 'Alhambra')]\n",
    "        # 打印筛选后的数据\n",
    "        print(filtered_df)\n",
    "        # 打印前几行\n",
    "        #print(\"First 50 rows:\")\n",
    "        #print(df.head(50))\n",
    "        #print(\"\\nLast 50 rows:\")\n",
    "        #print(df.tail(50))\n",
    "        \n",
    "        #print(df.head())\n",
    "        \n",
    "    except UnicodeDecodeError as e:\n",
    "        print(f\"Error reading the file with 'latin1' encoding: {e}\")\n",
    "else:\n",
    "    print(f\"Error: The file at path {file_path} does not exist.\")"
   ]
  },
  {
   "cell_type": "code",
   "execution_count": null,
   "id": "228fb2dc-3893-4fdb-9c56-74644de72640",
   "metadata": {},
   "outputs": [],
   "source": []
  },
  {
   "cell_type": "code",
   "execution_count": 7,
   "id": "17e0c451-50fb-4055-ad86-01412379f0f1",
   "metadata": {},
   "outputs": [
    {
     "ename": "FileNotFoundError",
     "evalue": "[Errno 2] No such file or directory: '/Users/hanjiang/Desktop/04Dissertation/datasets/nfirs_fire_hazmat_pdr_2022/NFIRS_FIRES_2022_102623/incidentaddress.txt'",
     "output_type": "error",
     "traceback": [
      "\u001b[0;31m---------------------------------------------------------------------------\u001b[0m",
      "\u001b[0;31mFileNotFoundError\u001b[0m                         Traceback (most recent call last)",
      "Cell \u001b[0;32mIn[7], line 1\u001b[0m\n\u001b[0;32m----> 1\u001b[0m \u001b[38;5;28;01mwith\u001b[39;00m \u001b[38;5;28;43mopen\u001b[39;49m\u001b[43m(\u001b[49m\u001b[43minput_txt_file\u001b[49m\u001b[43m,\u001b[49m\u001b[43m \u001b[49m\u001b[38;5;124;43m'\u001b[39;49m\u001b[38;5;124;43mr\u001b[39;49m\u001b[38;5;124;43m'\u001b[39;49m\u001b[43m,\u001b[49m\u001b[43m \u001b[49m\u001b[43mencoding\u001b[49m\u001b[38;5;241;43m=\u001b[39;49m\u001b[38;5;124;43m'\u001b[39;49m\u001b[38;5;124;43mutf-8\u001b[39;49m\u001b[38;5;124;43m'\u001b[39;49m\u001b[43m)\u001b[49m \u001b[38;5;28;01mas\u001b[39;00m txt_file:\n\u001b[1;32m      2\u001b[0m     \u001b[38;5;66;03m# 读取所有行\u001b[39;00m\n\u001b[1;32m      3\u001b[0m     lines \u001b[38;5;241m=\u001b[39m txt_file\u001b[38;5;241m.\u001b[39mreadlines()\n",
      "File \u001b[0;32m/opt/conda/lib/python3.11/site-packages/IPython/core/interactiveshell.py:286\u001b[0m, in \u001b[0;36m_modified_open\u001b[0;34m(file, *args, **kwargs)\u001b[0m\n\u001b[1;32m    279\u001b[0m \u001b[38;5;28;01mif\u001b[39;00m file \u001b[38;5;129;01min\u001b[39;00m {\u001b[38;5;241m0\u001b[39m, \u001b[38;5;241m1\u001b[39m, \u001b[38;5;241m2\u001b[39m}:\n\u001b[1;32m    280\u001b[0m     \u001b[38;5;28;01mraise\u001b[39;00m \u001b[38;5;167;01mValueError\u001b[39;00m(\n\u001b[1;32m    281\u001b[0m         \u001b[38;5;124mf\u001b[39m\u001b[38;5;124m\"\u001b[39m\u001b[38;5;124mIPython won\u001b[39m\u001b[38;5;124m'\u001b[39m\u001b[38;5;124mt let you open fd=\u001b[39m\u001b[38;5;132;01m{\u001b[39;00mfile\u001b[38;5;132;01m}\u001b[39;00m\u001b[38;5;124m by default \u001b[39m\u001b[38;5;124m\"\u001b[39m\n\u001b[1;32m    282\u001b[0m         \u001b[38;5;124m\"\u001b[39m\u001b[38;5;124mas it is likely to crash IPython. If you know what you are doing, \u001b[39m\u001b[38;5;124m\"\u001b[39m\n\u001b[1;32m    283\u001b[0m         \u001b[38;5;124m\"\u001b[39m\u001b[38;5;124myou can use builtins\u001b[39m\u001b[38;5;124m'\u001b[39m\u001b[38;5;124m open.\u001b[39m\u001b[38;5;124m\"\u001b[39m\n\u001b[1;32m    284\u001b[0m     )\n\u001b[0;32m--> 286\u001b[0m \u001b[38;5;28;01mreturn\u001b[39;00m \u001b[43mio_open\u001b[49m\u001b[43m(\u001b[49m\u001b[43mfile\u001b[49m\u001b[43m,\u001b[49m\u001b[43m \u001b[49m\u001b[38;5;241;43m*\u001b[39;49m\u001b[43margs\u001b[49m\u001b[43m,\u001b[49m\u001b[43m \u001b[49m\u001b[38;5;241;43m*\u001b[39;49m\u001b[38;5;241;43m*\u001b[39;49m\u001b[43mkwargs\u001b[49m\u001b[43m)\u001b[49m\n",
      "\u001b[0;31mFileNotFoundError\u001b[0m: [Errno 2] No such file or directory: '/Users/hanjiang/Desktop/04Dissertation/datasets/nfirs_fire_hazmat_pdr_2022/NFIRS_FIRES_2022_102623/incidentaddress.txt'"
     ]
    }
   ],
   "source": []
  },
  {
   "cell_type": "code",
   "execution_count": null,
   "id": "b6680869-4a0a-424a-949c-2d041a977474",
   "metadata": {},
   "outputs": [],
   "source": []
  }
 ],
 "metadata": {
  "kernelspec": {
   "display_name": "Python 3 (ipykernel)",
   "language": "python",
   "name": "python3"
  },
  "language_info": {
   "codemirror_mode": {
    "name": "ipython",
    "version": 3
   },
   "file_extension": ".py",
   "mimetype": "text/x-python",
   "name": "python",
   "nbconvert_exporter": "python",
   "pygments_lexer": "ipython3",
   "version": "3.11.5"
  }
 },
 "nbformat": 4,
 "nbformat_minor": 5
}
