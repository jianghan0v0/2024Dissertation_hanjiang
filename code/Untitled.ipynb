{
 "cells": [
  {
   "cell_type": "code",
   "execution_count": null,
   "id": "a6bb900d-deed-4c17-865a-88048147e0f2",
   "metadata": {},
   "outputs": [],
   "source": [
    "import os\n",
    "import pandas as pd\n",
    "\n",
    "# 定义根目录和年份范围\n",
    "csv_directory = 'DATA_nfirs2000-2021'\n",
    "txt_directory = 'DATA_nfirs2000-2021'\n",
    "output_directory = './processed_data_inc'\n",
    "years_csv = range(2005, 2012)\n",
    "years_txt = range(2012, 2023)\n",
    "selected_columns = [\"INC_TYPE\", \"STATE\"]\n",
    "\n",
    "# 输出文件路径\n",
    "combined_file_path = 'combined_inc_type_data.csv'\n",
    "\n",
    "# 删除已存在的输出文件\n",
    "if os.path.exists(combined_file_path):\n",
    "    os.remove(combined_file_path)\n",
    "\n",
    "# 读取2005到2011年的CSV数据\n",
    "for year in years_csv:\n",
    "    csv_file_path = os.path.join(csv_directory, f'NFIRS{year}', 'basicincident.csv')\n",
    "    if os.path.exists(csv_file_path):\n",
    "        print(f\"Reading {csv_file_path}\")\n",
    "        for chunk in pd.read_csv(csv_file_path, usecols=selected_columns, chunksize=5000):\n",
    "            chunk = chunk[chunk['STATE'] == 'CA']\n",
    "            chunk['year'] = year\n",
    "            # 逐步保存数据块\n",
    "            chunk[['year', 'INC_TYPE']].to_csv(combined_file_path, mode='a', index=False, header=not os.path.exists(combined_file_path))\n",
    "    else:\n",
    "        print(f\"File not found: {csv_file_path}\")\n",
    "\n",
    "# 读取2012到2022年的TXT数据\n",
    "for year in years_txt:\n",
    "    input_file_path = os.path.join(txt_directory, f'NFIRS{year}', 'basicincident.txt')\n",
    "    if os.path.exists(input_file_path):\n",
    "        print(f\"Processing {input_file_path}\")\n",
    "        for chunk in pd.read_csv(input_file_path, delimiter='^', encoding='latin1', usecols=selected_columns, chunksize=5000):\n",
    "            chunk = chunk[chunk['STATE'] == 'CA']\n",
    "            chunk['year'] = year\n",
    "            # 逐步保存数据块\n",
    "            chunk[['year', 'INC_TYPE']].to_csv(combined_file_path, mode='a', index=False, header=not os.path.exists(combined_file_path))\n",
    "    else:\n",
    "        print(f\"File not found: {input_file_path}\")\n",
    "\n",
    "print(\"All data successfully read and saved to combined_inc_type_data.csv\")\n"
   ]
  },
  {
   "cell_type": "code",
   "execution_count": 5,
   "id": "b6a4186d-2d35-4e57-901d-2dde368a075d",
   "metadata": {},
   "outputs": [
    {
     "name": "stdout",
     "output_type": "stream",
     "text": [
      "Data loaded from combined_inc_type_data.csv\n",
      "INC_TYPE   100    111   112   113  114  115  116  117   118  120  ...  461  \\\n",
      "year                                                              ...        \n",
      "2005      3963  14084   943  6593  926   72  185   41  4836   79  ...  300   \n",
      "2006      3337  11249   671  5321  869   36  132   40  4522   69  ...  179   \n",
      "2007      5001  14619  1015  5876  916   32  163   37  4829   95  ...  250   \n",
      "\n",
      "INC_TYPE   462   463  471  480  481  482   561   631  632  \n",
      "year                                                       \n",
      "2005      1080  8393  252  645  248   48  3763  1282   68  \n",
      "2006      1251  4752  185  530  194   47  3494  1306   76  \n",
      "2007      2274  4762  262  692  266   51  4727  2081   84  \n",
      "\n",
      "[3 rows x 71 columns]\n"
     ]
    }
   ],
   "source": [
    "import pandas as pd\n",
    "from statsmodels.tsa.arima.model import ARIMA\n",
    "import matplotlib.pyplot as plt\n",
    "\n",
    "# 从本地文件读取数据\n",
    "inc_type_df = pd.read_csv('combined_inc_type_data.csv')\n",
    "print(\"Data loaded from combined_inc_type_data.csv\")\n",
    "\n",
    "# 对每个年份的INC_TYPE进行统计\n",
    "inc_type_counts = inc_type_df.groupby(['year', 'INC_TYPE']).size().unstack(fill_value=0)\n",
    "\n",
    "# 输出统计结果\n",
    "print(inc_type_counts)\n",
    "\n"
   ]
  },
  {
   "cell_type": "code",
   "execution_count": null,
   "id": "e5a67ea0-77bb-439c-8d7f-a35695ceb618",
   "metadata": {},
   "outputs": [],
   "source": [
    "# 预测2023年的INC_TYPE数量\n",
    "predictions = {}\n",
    "\n",
    "for inc_type in inc_type_counts.columns:\n",
    "    model = ARIMA(inc_type_counts[inc_type], order=(1, 1, 1))\n",
    "    model_fit = model.fit()\n",
    "    forecast = model_fit.forecast(steps=1)\n",
    "    predictions[inc_type] = forecast[0]\n",
    "\n",
    "# 输出预测结果\n",
    "print(\"Predicted INC_TYPE counts for 2023:\")\n",
    "for inc_type, count in predictions.items():\n",
    "    print(f\"INC_TYPE {inc_type}: {count}\")\n",
    "\n",
    "# 可视化结果\n",
    "inc_type_counts.plot(kind='line', figsize=(15, 7))\n",
    "plt.title('INC_TYPE Counts by Year')\n",
    "plt.xlabel('Year')\n",
    "plt.ylabel('Count')\n",
    "plt.show()"
   ]
  },
  {
   "cell_type": "code",
   "execution_count": 2,
   "id": "6cabab44-2697-41cd-94ed-287f03f84046",
   "metadata": {},
   "outputs": [
    {
     "ename": "NameError",
     "evalue": "name 'inc_type_df' is not defined",
     "output_type": "error",
     "traceback": [
      "\u001b[0;31m---------------------------------------------------------------------------\u001b[0m",
      "\u001b[0;31mNameError\u001b[0m                                 Traceback (most recent call last)",
      "Cell \u001b[0;32mIn[2], line 2\u001b[0m\n\u001b[1;32m      1\u001b[0m \u001b[38;5;66;03m# 对每个年份的INC_TYPE进行统计\u001b[39;00m\n\u001b[0;32m----> 2\u001b[0m inc_type_counts \u001b[38;5;241m=\u001b[39m \u001b[43minc_type_df\u001b[49m\u001b[38;5;241m.\u001b[39mgroupby([\u001b[38;5;124m'\u001b[39m\u001b[38;5;124myear\u001b[39m\u001b[38;5;124m'\u001b[39m, \u001b[38;5;124m'\u001b[39m\u001b[38;5;124mINC_TYPE\u001b[39m\u001b[38;5;124m'\u001b[39m])\u001b[38;5;241m.\u001b[39msize()\u001b[38;5;241m.\u001b[39munstack(fill_value\u001b[38;5;241m=\u001b[39m\u001b[38;5;241m0\u001b[39m)\n\u001b[1;32m      4\u001b[0m \u001b[38;5;66;03m# 输出统计结果 \u001b[39;00m\n\u001b[1;32m      5\u001b[0m \u001b[38;5;28mprint\u001b[39m(inc_type_counts)\n",
      "\u001b[0;31mNameError\u001b[0m: name 'inc_type_df' is not defined"
     ]
    }
   ],
   "source": [
    "\n",
    "# 对每个年份的INC_TYPE进行统计\n",
    "inc_type_counts = inc_type_df.groupby(['year', 'INC_TYPE']).size().unstack(fill_value=0)\n",
    "\n",
    "# 输出统计结果 \n",
    "print(inc_type_counts)\n",
    "\n",
    "# 预测2023年的INC_TYPE数量\n",
    "predictions = {}\n",
    "\n",
    "for inc_type in inc_type_counts.columns:\n",
    "    model = ARIMA(inc_type_counts[inc_type], order=(1, 1, 1))\n",
    "    model_fit = model.fit()\n",
    "    forecast = model_fit.forecast(steps=1)\n",
    "    predictions[inc_type] = forecast[0]\n",
    "\n",
    "# 输出预测结果\n",
    "print(\"Predicted INC_TYPE counts for 2023:\")\n",
    "for inc_type, count in predictions.items():\n",
    "    print(f\"INC_TYPE {inc_type}: {count}\")\n",
    "\n",
    "# 可视化结果\n",
    "inc_type_counts.plot(kind='line', figsize=(15, 7))\n",
    "plt.title('INC_TYPE Counts by Year')\n",
    "plt.xlabel('Year')\n",
    "plt.ylabel('Count')\n",
    "plt.show()\n"
   ]
  }
 ],
 "metadata": {
  "kernelspec": {
   "display_name": "Python 3 (ipykernel)",
   "language": "python",
   "name": "python3"
  },
  "language_info": {
   "codemirror_mode": {
    "name": "ipython",
    "version": 3
   },
   "file_extension": ".py",
   "mimetype": "text/x-python",
   "name": "python",
   "nbconvert_exporter": "python",
   "pygments_lexer": "ipython3",
   "version": "3.11.5"
  }
 },
 "nbformat": 4,
 "nbformat_minor": 5
}
